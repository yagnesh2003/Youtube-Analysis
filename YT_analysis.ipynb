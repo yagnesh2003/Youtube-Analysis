{
 "cells": [
  {
   "cell_type": "code",
   "execution_count": 1,
   "metadata": {},
   "outputs": [],
   "source": [
    "from googleapiclient.discovery import build\n",
    "import pandas as pd\n",
    "import seaborn as sns"
   ]
  },
  {
   "cell_type": "code",
   "execution_count": 2,
   "metadata": {},
   "outputs": [],
   "source": [
    "api_key = 'XXXXXXXX'\n",
    "# channel_id = 'UCjWY5hREA6FFYrthD0rZNIw'  # krish naik hindi\n",
    "channel_id = ['UCGs86U1KK-KMtk-Dzj627Cw',  # CodeGenius316\n",
    "              'UCvEKHATlVq84hm1jduTYm8g',  # Striver\n",
    "              'UCJskGeByzRRSvmOyZOz61ig',  # takeUforward\n",
    "              'UCCWi3hpnq_Pe03nGxuS7isg',  # CampusX\n",
    "              'UCk7NcgnqCmui1AV7MTXZwOw'  # Ankit Bansal\n",
    "]\n",
    "\n",
    "youtube = build('youtube', 'v3', developerKey=api_key)"
   ]
  },
  {
   "cell_type": "code",
   "execution_count": 3,
   "metadata": {},
   "outputs": [
    {
     "name": "stdout",
     "output_type": "stream",
     "text": [
      "Channel ID: UCk7NcgnqCmui1AV7MTXZwOw\n"
     ]
    }
   ],
   "source": [
    "# Function for finding channel id of a channel using channel name\n",
    "\n",
    "# Create a resource object for interacting with the API\n",
    "youtube = build('youtube', 'v3', developerKey=api_key)\n",
    "\n",
    "# Replace with the username of the channel\n",
    "channel_name = \"@ankitbansal6\"\n",
    "\n",
    "\n",
    "# Request the channel details\n",
    "request = youtube.search().list(\n",
    "    part=\"snippet\",\n",
    "    q=channel_name,\n",
    "    type=\"channel\"\n",
    ")\n",
    "response = request.execute()\n",
    "\n",
    "# Print the channel ID\n",
    "if \"items\" in response and len(response[\"items\"]) > 0:\n",
    "    channel_id = response[\"items\"][0][\"snippet\"][\"channelId\"]\n",
    "    print(f\"Channel ID: {channel_id}\")\n",
    "else:\n",
    "    print(\"Channel not found\")"
   ]
  },
  {
   "cell_type": "markdown",
   "metadata": {},
   "source": [
    "Function to get channel statistics"
   ]
  },
  {
   "cell_type": "code",
   "execution_count": 3,
   "metadata": {},
   "outputs": [],
   "source": [
    "def get_channel_statistics(youtube, channel_id):\n",
    "\n",
    "    all_data = []\n",
    "\n",
    "    request = youtube.channels().list(\n",
    "        part = 'snippet, contentDetails,statistics',\n",
    "        id = ','.join(channel_id)\n",
    "    )\n",
    "    \n",
    "    response = request.execute()\n",
    "\n",
    "    for i in range (len(response['items'])):\n",
    "        data = dict(channel_name = response['items'][i]['snippet']['title'],\n",
    "                    Subscribers = response['items'][i]['statistics']['subscriberCount'],\n",
    "                    views = response['items'][i]['statistics']['viewCount'],\n",
    "                    total_videos = response['items'][i]['statistics']['videoCount'],\n",
    "                    playlist_id = response['items'][i]['contentDetails']['relatedPlaylists']['uploads'])\n",
    "        all_data.append(data)\n",
    "    \n",
    "    return all_data\n"
   ]
  },
  {
   "cell_type": "code",
   "execution_count": 4,
   "metadata": {},
   "outputs": [],
   "source": [
    "# Storing all the youtube channel data in a list\n",
    "channel_stats = get_channel_statistics(youtube, channel_id)"
   ]
  },
  {
   "cell_type": "code",
   "execution_count": 5,
   "metadata": {},
   "outputs": [],
   "source": [
    "# converting it into a pandas dataframe\n",
    "channel_data = pd.DataFrame(channel_stats)"
   ]
  },
  {
   "cell_type": "code",
   "execution_count": 6,
   "metadata": {},
   "outputs": [
    {
     "data": {
      "text/html": [
       "<div>\n",
       "<style scoped>\n",
       "    .dataframe tbody tr th:only-of-type {\n",
       "        vertical-align: middle;\n",
       "    }\n",
       "\n",
       "    .dataframe tbody tr th {\n",
       "        vertical-align: top;\n",
       "    }\n",
       "\n",
       "    .dataframe thead th {\n",
       "        text-align: right;\n",
       "    }\n",
       "</style>\n",
       "<table border=\"1\" class=\"dataframe\">\n",
       "  <thead>\n",
       "    <tr style=\"text-align: right;\">\n",
       "      <th></th>\n",
       "      <th>channel_name</th>\n",
       "      <th>Subscribers</th>\n",
       "      <th>views</th>\n",
       "      <th>total_videos</th>\n",
       "      <th>playlist_id</th>\n",
       "    </tr>\n",
       "  </thead>\n",
       "  <tbody>\n",
       "    <tr>\n",
       "      <th>0</th>\n",
       "      <td>take U forward</td>\n",
       "      <td>613000</td>\n",
       "      <td>82944420</td>\n",
       "      <td>533</td>\n",
       "      <td>UUJskGeByzRRSvmOyZOz61ig</td>\n",
       "    </tr>\n",
       "    <tr>\n",
       "      <th>1</th>\n",
       "      <td>CampusX</td>\n",
       "      <td>216000</td>\n",
       "      <td>23768171</td>\n",
       "      <td>1188</td>\n",
       "      <td>UUCWi3hpnq_Pe03nGxuS7isg</td>\n",
       "    </tr>\n",
       "    <tr>\n",
       "      <th>2</th>\n",
       "      <td>Striver</td>\n",
       "      <td>243000</td>\n",
       "      <td>8678411</td>\n",
       "      <td>85</td>\n",
       "      <td>UUvEKHATlVq84hm1jduTYm8g</td>\n",
       "    </tr>\n",
       "    <tr>\n",
       "      <th>3</th>\n",
       "      <td>CodeGenius</td>\n",
       "      <td>941</td>\n",
       "      <td>59762</td>\n",
       "      <td>120</td>\n",
       "      <td>UUGs86U1KK-KMtk-Dzj627Cw</td>\n",
       "    </tr>\n",
       "    <tr>\n",
       "      <th>4</th>\n",
       "      <td>Ankit Bansal</td>\n",
       "      <td>108000</td>\n",
       "      <td>4435389</td>\n",
       "      <td>191</td>\n",
       "      <td>UUk7NcgnqCmui1AV7MTXZwOw</td>\n",
       "    </tr>\n",
       "  </tbody>\n",
       "</table>\n",
       "</div>"
      ],
      "text/plain": [
       "     channel_name Subscribers     views total_videos               playlist_id\n",
       "0  take U forward      613000  82944420          533  UUJskGeByzRRSvmOyZOz61ig\n",
       "1         CampusX      216000  23768171         1188  UUCWi3hpnq_Pe03nGxuS7isg\n",
       "2         Striver      243000   8678411           85  UUvEKHATlVq84hm1jduTYm8g\n",
       "3      CodeGenius         941     59762          120  UUGs86U1KK-KMtk-Dzj627Cw\n",
       "4    Ankit Bansal      108000   4435389          191  UUk7NcgnqCmui1AV7MTXZwOw"
      ]
     },
     "execution_count": 6,
     "metadata": {},
     "output_type": "execute_result"
    }
   ],
   "source": [
    "channel_data"
   ]
  },
  {
   "cell_type": "code",
   "execution_count": 7,
   "metadata": {},
   "outputs": [
    {
     "data": {
      "text/plain": [
       "channel_name    object\n",
       "Subscribers      int64\n",
       "views            int64\n",
       "total_videos     int64\n",
       "playlist_id     object\n",
       "dtype: object"
      ]
     },
     "execution_count": 7,
     "metadata": {},
     "output_type": "execute_result"
    }
   ],
   "source": [
    "# We need to convert the data type of each column accordingly\n",
    "channel_data['Subscribers'] = pd.to_numeric(channel_data['Subscribers'])\n",
    "channel_data['views'] = pd.to_numeric(channel_data['views'])\n",
    "channel_data['total_videos'] = pd.to_numeric(channel_data['total_videos'])\n",
    "channel_data.dtypes"
   ]
  },
  {
   "cell_type": "code",
   "execution_count": 18,
   "metadata": {},
   "outputs": [
    {
     "data": {
      "text/html": [
       "<div>\n",
       "<style scoped>\n",
       "    .dataframe tbody tr th:only-of-type {\n",
       "        vertical-align: middle;\n",
       "    }\n",
       "\n",
       "    .dataframe tbody tr th {\n",
       "        vertical-align: top;\n",
       "    }\n",
       "\n",
       "    .dataframe thead th {\n",
       "        text-align: right;\n",
       "    }\n",
       "</style>\n",
       "<table border=\"1\" class=\"dataframe\">\n",
       "  <thead>\n",
       "    <tr style=\"text-align: right;\">\n",
       "      <th></th>\n",
       "      <th>channel_name</th>\n",
       "      <th>Subscribers</th>\n",
       "      <th>views</th>\n",
       "      <th>total_videos</th>\n",
       "      <th>playlist_id</th>\n",
       "    </tr>\n",
       "  </thead>\n",
       "  <tbody>\n",
       "    <tr>\n",
       "      <th>0</th>\n",
       "      <td>take U forward</td>\n",
       "      <td>613000</td>\n",
       "      <td>82944420</td>\n",
       "      <td>533</td>\n",
       "      <td>UUJskGeByzRRSvmOyZOz61ig</td>\n",
       "    </tr>\n",
       "    <tr>\n",
       "      <th>1</th>\n",
       "      <td>CampusX</td>\n",
       "      <td>216000</td>\n",
       "      <td>23768171</td>\n",
       "      <td>1188</td>\n",
       "      <td>UUCWi3hpnq_Pe03nGxuS7isg</td>\n",
       "    </tr>\n",
       "    <tr>\n",
       "      <th>2</th>\n",
       "      <td>Striver</td>\n",
       "      <td>243000</td>\n",
       "      <td>8678411</td>\n",
       "      <td>85</td>\n",
       "      <td>UUvEKHATlVq84hm1jduTYm8g</td>\n",
       "    </tr>\n",
       "    <tr>\n",
       "      <th>3</th>\n",
       "      <td>CodeGenius</td>\n",
       "      <td>941</td>\n",
       "      <td>59762</td>\n",
       "      <td>120</td>\n",
       "      <td>UUGs86U1KK-KMtk-Dzj627Cw</td>\n",
       "    </tr>\n",
       "    <tr>\n",
       "      <th>4</th>\n",
       "      <td>Ankit Bansal</td>\n",
       "      <td>108000</td>\n",
       "      <td>4435389</td>\n",
       "      <td>191</td>\n",
       "      <td>UUk7NcgnqCmui1AV7MTXZwOw</td>\n",
       "    </tr>\n",
       "  </tbody>\n",
       "</table>\n",
       "</div>"
      ],
      "text/plain": [
       "     channel_name  Subscribers     views  total_videos  \\\n",
       "0  take U forward       613000  82944420           533   \n",
       "1         CampusX       216000  23768171          1188   \n",
       "2         Striver       243000   8678411            85   \n",
       "3      CodeGenius          941     59762           120   \n",
       "4    Ankit Bansal       108000   4435389           191   \n",
       "\n",
       "                playlist_id  \n",
       "0  UUJskGeByzRRSvmOyZOz61ig  \n",
       "1  UUCWi3hpnq_Pe03nGxuS7isg  \n",
       "2  UUvEKHATlVq84hm1jduTYm8g  \n",
       "3  UUGs86U1KK-KMtk-Dzj627Cw  \n",
       "4  UUk7NcgnqCmui1AV7MTXZwOw  "
      ]
     },
     "execution_count": 18,
     "metadata": {},
     "output_type": "execute_result"
    }
   ],
   "source": [
    "channel_data"
   ]
  },
  {
   "cell_type": "code",
   "execution_count": 19,
   "metadata": {},
   "outputs": [
    {
     "data": {
      "text/plain": [
       "channel_name    object\n",
       "Subscribers      int64\n",
       "views            int64\n",
       "total_videos     int64\n",
       "playlist_id     object\n",
       "dtype: object"
      ]
     },
     "execution_count": 19,
     "metadata": {},
     "output_type": "execute_result"
    }
   ],
   "source": [
    "channel_data.dtypes"
   ]
  },
  {
   "cell_type": "markdown",
   "metadata": {},
   "source": [
    "Visualising the data"
   ]
  },
  {
   "cell_type": "code",
   "execution_count": 20,
   "metadata": {},
   "outputs": [
    {
     "data": {
      "image/png": "[encoded data removed]",
      "text/plain": [
       "<Figure size 640x480 with 1 Axes>"
      ]
     },
     "metadata": {},
     "output_type": "display_data"
    }
   ],
   "source": [
    "# sns.set(rc={'figure.figsize':(10,8)})\n",
    "ax = sns.barplot(x='channel_name', y = 'Subscribers', data=channel_data)"
   ]
  },
  {
   "cell_type": "code",
   "execution_count": 21,
   "metadata": {},
   "outputs": [
    {
     "data": {
      "image/png": "[encoded data removed]",
      "text/plain": [
       "<Figure size 640x480 with 1 Axes>"
      ]
     },
     "metadata": {},
     "output_type": "display_data"
    }
   ],
   "source": [
    "ax = sns.barplot(x='channel_name', y = 'views', data=channel_data)"
   ]
  },
  {
   "cell_type": "code",
   "execution_count": 22,
   "metadata": {},
   "outputs": [
    {
     "data": {
      "image/png": "[encoded data removed]",
      "text/plain": [
       "<Figure size 640x480 with 1 Axes>"
      ]
     },
     "metadata": {},
     "output_type": "display_data"
    }
   ],
   "source": [
    "ax = sns.barplot(x='channel_name', y = 'total_videos', data=channel_data)"
   ]
  },
  {
   "cell_type": "markdown",
   "metadata": {},
   "source": [
    "Scrape , Analysis and Visualise video details"
   ]
  },
  {
   "cell_type": "code",
   "execution_count": 29,
   "metadata": {},
   "outputs": [
    {
     "data": {
      "text/html": [
       "<div>\n",
       "<style scoped>\n",
       "    .dataframe tbody tr th:only-of-type {\n",
       "        vertical-align: middle;\n",
       "    }\n",
       "\n",
       "    .dataframe tbody tr th {\n",
       "        vertical-align: top;\n",
       "    }\n",
       "\n",
       "    .dataframe thead th {\n",
       "        text-align: right;\n",
       "    }\n",
       "</style>\n",
       "<table border=\"1\" class=\"dataframe\">\n",
       "  <thead>\n",
       "    <tr style=\"text-align: right;\">\n",
       "      <th></th>\n",
       "      <th>channel_name</th>\n",
       "      <th>Subscribers</th>\n",
       "      <th>views</th>\n",
       "      <th>total_videos</th>\n",
       "      <th>playlist_id</th>\n",
       "    </tr>\n",
       "  </thead>\n",
       "  <tbody>\n",
       "    <tr>\n",
       "      <th>0</th>\n",
       "      <td>take U forward</td>\n",
       "      <td>613000</td>\n",
       "      <td>82944420</td>\n",
       "      <td>533</td>\n",
       "      <td>UUJskGeByzRRSvmOyZOz61ig</td>\n",
       "    </tr>\n",
       "    <tr>\n",
       "      <th>1</th>\n",
       "      <td>CampusX</td>\n",
       "      <td>216000</td>\n",
       "      <td>23768171</td>\n",
       "      <td>1188</td>\n",
       "      <td>UUCWi3hpnq_Pe03nGxuS7isg</td>\n",
       "    </tr>\n",
       "    <tr>\n",
       "      <th>2</th>\n",
       "      <td>Striver</td>\n",
       "      <td>243000</td>\n",
       "      <td>8678411</td>\n",
       "      <td>85</td>\n",
       "      <td>UUvEKHATlVq84hm1jduTYm8g</td>\n",
       "    </tr>\n",
       "    <tr>\n",
       "      <th>3</th>\n",
       "      <td>CodeGenius</td>\n",
       "      <td>941</td>\n",
       "      <td>59762</td>\n",
       "      <td>120</td>\n",
       "      <td>UUGs86U1KK-KMtk-Dzj627Cw</td>\n",
       "    </tr>\n",
       "    <tr>\n",
       "      <th>4</th>\n",
       "      <td>Ankit Bansal</td>\n",
       "      <td>108000</td>\n",
       "      <td>4435389</td>\n",
       "      <td>191</td>\n",
       "      <td>UUk7NcgnqCmui1AV7MTXZwOw</td>\n",
       "    </tr>\n",
       "  </tbody>\n",
       "</table>\n",
       "</div>"
      ],
      "text/plain": [
       "     channel_name  Subscribers     views  total_videos  \\\n",
       "0  take U forward       613000  82944420           533   \n",
       "1         CampusX       216000  23768171          1188   \n",
       "2         Striver       243000   8678411            85   \n",
       "3      CodeGenius          941     59762           120   \n",
       "4    Ankit Bansal       108000   4435389           191   \n",
       "\n",
       "                playlist_id  \n",
       "0  UUJskGeByzRRSvmOyZOz61ig  \n",
       "1  UUCWi3hpnq_Pe03nGxuS7isg  \n",
       "2  UUvEKHATlVq84hm1jduTYm8g  \n",
       "3  UUGs86U1KK-KMtk-Dzj627Cw  \n",
       "4  UUk7NcgnqCmui1AV7MTXZwOw  "
      ]
     },
     "execution_count": 29,
     "metadata": {},
     "output_type": "execute_result"
    }
   ],
   "source": [
    "channel_data"
   ]
  },
  {
   "cell_type": "code",
   "execution_count": 30,
   "metadata": {},
   "outputs": [],
   "source": [
    "playlist_id = channel_data.loc[channel_data['channel_name'] == 'take U forward', 'playlist_id'].iloc[0]"
   ]
  },
  {
   "cell_type": "code",
   "execution_count": 31,
   "metadata": {},
   "outputs": [
    {
     "data": {
      "text/plain": [
       "'UUJskGeByzRRSvmOyZOz61ig'"
      ]
     },
     "execution_count": 31,
     "metadata": {},
     "output_type": "execute_result"
    }
   ],
   "source": [
    "playlist_id"
   ]
  },
  {
   "cell_type": "code",
   "execution_count": 32,
   "metadata": {},
   "outputs": [],
   "source": [
    "# Function to get the video ids\n",
    "def get_video_ids(youtube, playlist_id):\n",
    "\n",
    "    request = youtube.playlistItems().list(\n",
    "        part = 'contentDetails',\n",
    "        playlistId = playlist_id,\n",
    "        maxResults = 50\n",
    "    )\n",
    "    response = request.execute()\n",
    "\n",
    "    video_id = []\n",
    "\n",
    "    for i in range(len(response['items'])):\n",
    "        video_id.append(response['items'][i]['contentDetails']['videoId'])\n",
    "\n",
    "    next_page_token = response.get('nextPageToken')\n",
    "    more_pages = True\n",
    "\n",
    "    while(more_pages):\n",
    "        if next_page_token is None:\n",
    "            more_pages = False\n",
    "        else:\n",
    "            request = youtube.playlistItems().list(\n",
    "            part = 'contentDetails',\n",
    "            playlistId = playlist_id,\n",
    "            maxResults = 50,\n",
    "            pageToken = next_page_token\n",
    "            )\n",
    "            response = request.execute()\n",
    "\n",
    "            for i in range(len(response['items'])):\n",
    "                video_id.append(response['items'][i]['contentDetails']['videoId'])\n",
    "            \n",
    "            next_page_token = response.get('nextPageToken')\n",
    "\n",
    "\n",
    "\n",
    "    return video_id"
   ]
  },
  {
   "cell_type": "code",
   "execution_count": 33,
   "metadata": {},
   "outputs": [],
   "source": [
    "video_id = get_video_ids(youtube, playlist_id)"
   ]
  },
  {
   "cell_type": "code",
   "execution_count": 77,
   "metadata": {},
   "outputs": [],
   "source": [
    "# Function to get video details\n",
    "def get_video_details(youtube, video_ids):\n",
    "\n",
    "    all_video_stats = []\n",
    "\n",
    "    for i in range(0,len(video_ids),50):\n",
    "        request = youtube.videos().list(\n",
    "            part = 'snippet,statistics',\n",
    "            id = ','.join(video_ids[i:i+50])\n",
    "        )\n",
    "        response = request.execute()\n",
    "\n",
    "        for video in response['items']:\n",
    "            video_stats = dict(\n",
    "                channel_title = video['snippet']['channelTitle'],\n",
    "                Title=video['snippet']['title'],\n",
    "                Description=video['snippet']['description'],\n",
    "                Published_date=video['snippet']['publishedAt'],\n",
    "                Views=video['statistics'].get('viewCount', 0),\n",
    "                Likes=video['statistics'].get('likeCount', 0),\n",
    "                # Dislikes=video['statistics'].get('dislikeCount', 0),  # Dislikes are no longer publicly available\n",
    "                Comments=video['statistics'].get('commentCount', 0),\n",
    "            )\n",
    "            all_video_stats.append(video_stats)\n",
    "\n",
    "    return all_video_stats\n",
    "\n"
   ]
  },
  {
   "cell_type": "code",
   "execution_count": 78,
   "metadata": {},
   "outputs": [],
   "source": [
    "video_details = get_video_details(youtube, video_id)\n",
    "# video_details"
   ]
  },
  {
   "cell_type": "code",
   "execution_count": 80,
   "metadata": {},
   "outputs": [],
   "source": [
    "video_data = pd.DataFrame(video_details)"
   ]
  },
  {
   "cell_type": "code",
   "execution_count": 81,
   "metadata": {},
   "outputs": [
    {
     "data": {
      "text/html": [
       "<div>\n",
       "<style scoped>\n",
       "    .dataframe tbody tr th:only-of-type {\n",
       "        vertical-align: middle;\n",
       "    }\n",
       "\n",
       "    .dataframe tbody tr th {\n",
       "        vertical-align: top;\n",
       "    }\n",
       "\n",
       "    .dataframe thead th {\n",
       "        text-align: right;\n",
       "    }\n",
       "</style>\n",
       "<table border=\"1\" class=\"dataframe\">\n",
       "  <thead>\n",
       "    <tr style=\"text-align: right;\">\n",
       "      <th></th>\n",
       "      <th>channel_title</th>\n",
       "      <th>Title</th>\n",
       "      <th>Description</th>\n",
       "      <th>Published_date</th>\n",
       "      <th>Views</th>\n",
       "      <th>Likes</th>\n",
       "      <th>Comments</th>\n",
       "    </tr>\n",
       "  </thead>\n",
       "  <tbody>\n",
       "    <tr>\n",
       "      <th>0</th>\n",
       "      <td>take U forward</td>\n",
       "      <td>L18. Implement LRU Cache</td>\n",
       "      <td>Find problem link, notes under Step 9: https:/...</td>\n",
       "      <td>2024-07-16</td>\n",
       "      <td>4221</td>\n",
       "      <td>117</td>\n",
       "      <td>31</td>\n",
       "    </tr>\n",
       "    <tr>\n",
       "      <th>1</th>\n",
       "      <td>take U forward</td>\n",
       "      <td>L17. The Celebrity Problem | Stack and Queue P...</td>\n",
       "      <td>Find problem link, notes under Step 9: https:/...</td>\n",
       "      <td>2024-07-16</td>\n",
       "      <td>1514</td>\n",
       "      <td>66</td>\n",
       "      <td>12</td>\n",
       "    </tr>\n",
       "    <tr>\n",
       "      <th>2</th>\n",
       "      <td>take U forward</td>\n",
       "      <td>L16. Sliding Window Maximum | Stack and Queue ...</td>\n",
       "      <td>Find problem link, notes under Step 9: https:/...</td>\n",
       "      <td>2024-07-16</td>\n",
       "      <td>987</td>\n",
       "      <td>43</td>\n",
       "      <td>3</td>\n",
       "    </tr>\n",
       "    <tr>\n",
       "      <th>3</th>\n",
       "      <td>take U forward</td>\n",
       "      <td>L15. Stock Span Problem | Stack and Queue Play...</td>\n",
       "      <td>Find problem link, notes under Step 9: https:/...</td>\n",
       "      <td>2024-07-16</td>\n",
       "      <td>1063</td>\n",
       "      <td>42</td>\n",
       "      <td>6</td>\n",
       "    </tr>\n",
       "    <tr>\n",
       "      <th>4</th>\n",
       "      <td>take U forward</td>\n",
       "      <td>L14. Remove K Digits | Stack and Queue Playlist</td>\n",
       "      <td>Find problem link, notes under Step 9: https:/...</td>\n",
       "      <td>2024-07-16</td>\n",
       "      <td>990</td>\n",
       "      <td>40</td>\n",
       "      <td>3</td>\n",
       "    </tr>\n",
       "    <tr>\n",
       "      <th>...</th>\n",
       "      <td>...</td>\n",
       "      <td>...</td>\n",
       "      <td>...</td>\n",
       "      <td>...</td>\n",
       "      <td>...</td>\n",
       "      <td>...</td>\n",
       "      <td>...</td>\n",
       "    </tr>\n",
       "    <tr>\n",
       "      <th>529</th>\n",
       "      <td>take U forward</td>\n",
       "      <td>How to get an internship at Amazon | Internshi...</td>\n",
       "      <td>Check our Website: https://www.takeuforward.or...</td>\n",
       "      <td>2020-04-09</td>\n",
       "      <td>132039</td>\n",
       "      <td>7557</td>\n",
       "      <td>261</td>\n",
       "    </tr>\n",
       "    <tr>\n",
       "      <th>530</th>\n",
       "      <td>take U forward</td>\n",
       "      <td>How to approach people at Linkedin | How to bu...</td>\n",
       "      <td>Check our Website: https://www.takeuforward.or...</td>\n",
       "      <td>2020-04-04</td>\n",
       "      <td>32377</td>\n",
       "      <td>2707</td>\n",
       "      <td>74</td>\n",
       "    </tr>\n",
       "    <tr>\n",
       "      <th>531</th>\n",
       "      <td>take U forward</td>\n",
       "      <td>Experience with Scaler Academy | More insights...</td>\n",
       "      <td>Check our Website: https://www.takeuforward.or...</td>\n",
       "      <td>2020-04-01</td>\n",
       "      <td>180717</td>\n",
       "      <td>0</td>\n",
       "      <td>623</td>\n",
       "    </tr>\n",
       "    <tr>\n",
       "      <th>532</th>\n",
       "      <td>take U forward</td>\n",
       "      <td>Longest Increasing Subsequence NlogN approach</td>\n",
       "      <td>Check our Website: https://www.takeuforward.or...</td>\n",
       "      <td>2020-03-29</td>\n",
       "      <td>69521</td>\n",
       "      <td>1872</td>\n",
       "      <td>141</td>\n",
       "    </tr>\n",
       "    <tr>\n",
       "      <th>533</th>\n",
       "      <td>take U forward</td>\n",
       "      <td>Equal Average Partition Dynamic Programming</td>\n",
       "      <td>Check our Website: https://www.takeuforward.or...</td>\n",
       "      <td>2020-03-23</td>\n",
       "      <td>24067</td>\n",
       "      <td>710</td>\n",
       "      <td>62</td>\n",
       "    </tr>\n",
       "  </tbody>\n",
       "</table>\n",
       "<p>534 rows × 7 columns</p>\n",
       "</div>"
      ],
      "text/plain": [
       "      channel_title                                              Title  \\\n",
       "0    take U forward                           L18. Implement LRU Cache   \n",
       "1    take U forward  L17. The Celebrity Problem | Stack and Queue P...   \n",
       "2    take U forward  L16. Sliding Window Maximum | Stack and Queue ...   \n",
       "3    take U forward  L15. Stock Span Problem | Stack and Queue Play...   \n",
       "4    take U forward    L14. Remove K Digits | Stack and Queue Playlist   \n",
       "..              ...                                                ...   \n",
       "529  take U forward  How to get an internship at Amazon | Internshi...   \n",
       "530  take U forward  How to approach people at Linkedin | How to bu...   \n",
       "531  take U forward  Experience with Scaler Academy | More insights...   \n",
       "532  take U forward      Longest Increasing Subsequence NlogN approach   \n",
       "533  take U forward        Equal Average Partition Dynamic Programming   \n",
       "\n",
       "                                           Description Published_date   Views  \\\n",
       "0    Find problem link, notes under Step 9: https:/...     2024-07-16    4221   \n",
       "1    Find problem link, notes under Step 9: https:/...     2024-07-16    1514   \n",
       "2    Find problem link, notes under Step 9: https:/...     2024-07-16     987   \n",
       "3    Find problem link, notes under Step 9: https:/...     2024-07-16    1063   \n",
       "4    Find problem link, notes under Step 9: https:/...     2024-07-16     990   \n",
       "..                                                 ...            ...     ...   \n",
       "529  Check our Website: https://www.takeuforward.or...     2020-04-09  132039   \n",
       "530  Check our Website: https://www.takeuforward.or...     2020-04-04   32377   \n",
       "531  Check our Website: https://www.takeuforward.or...     2020-04-01  180717   \n",
       "532  Check our Website: https://www.takeuforward.or...     2020-03-29   69521   \n",
       "533  Check our Website: https://www.takeuforward.or...     2020-03-23   24067   \n",
       "\n",
       "     Likes  Comments  \n",
       "0      117        31  \n",
       "1       66        12  \n",
       "2       43         3  \n",
       "3       42         6  \n",
       "4       40         3  \n",
       "..     ...       ...  \n",
       "529   7557       261  \n",
       "530   2707        74  \n",
       "531      0       623  \n",
       "532   1872       141  \n",
       "533    710        62  \n",
       "\n",
       "[534 rows x 7 columns]"
      ]
     },
     "execution_count": 81,
     "metadata": {},
     "output_type": "execute_result"
    }
   ],
   "source": [
    "video_data['Published_date'] = pd.to_datetime(video_data['Published_date']).dt.date\n",
    "video_data['Views'] = pd.to_numeric(video_data['Views'])\n",
    "video_data['Likes'] = pd.to_numeric(video_data['Likes'])\n",
    "video_data['Comments'] = pd.to_numeric(video_data['Comments'])\n",
    "video_data"
   ]
  },
  {
   "cell_type": "code",
   "execution_count": 82,
   "metadata": {},
   "outputs": [
    {
     "data": {
      "text/html": [
       "<div>\n",
       "<style scoped>\n",
       "    .dataframe tbody tr th:only-of-type {\n",
       "        vertical-align: middle;\n",
       "    }\n",
       "\n",
       "    .dataframe tbody tr th {\n",
       "        vertical-align: top;\n",
       "    }\n",
       "\n",
       "    .dataframe thead th {\n",
       "        text-align: right;\n",
       "    }\n",
       "</style>\n",
       "<table border=\"1\" class=\"dataframe\">\n",
       "  <thead>\n",
       "    <tr style=\"text-align: right;\">\n",
       "      <th></th>\n",
       "      <th>channel_title</th>\n",
       "      <th>Title</th>\n",
       "      <th>Description</th>\n",
       "      <th>Published_date</th>\n",
       "      <th>Views</th>\n",
       "      <th>Likes</th>\n",
       "      <th>Comments</th>\n",
       "    </tr>\n",
       "  </thead>\n",
       "  <tbody>\n",
       "    <tr>\n",
       "      <th>303</th>\n",
       "      <td>take U forward</td>\n",
       "      <td>Re 1. Introduction to Recursion | Recursion Tr...</td>\n",
       "      <td>Check our Website: https://www.takeuforward.or...</td>\n",
       "      <td>2021-12-25</td>\n",
       "      <td>1289563</td>\n",
       "      <td>22892</td>\n",
       "      <td>480</td>\n",
       "    </tr>\n",
       "    <tr>\n",
       "      <th>296</th>\n",
       "      <td>take U forward</td>\n",
       "      <td>Striver's Dynamic Programming Series | The ULT...</td>\n",
       "      <td>Check our Website: https://www.takeuforward.or...</td>\n",
       "      <td>2022-01-07</td>\n",
       "      <td>1086725</td>\n",
       "      <td>6603</td>\n",
       "      <td>156</td>\n",
       "    </tr>\n",
       "    <tr>\n",
       "      <th>170</th>\n",
       "      <td>take U forward</td>\n",
       "      <td>C++ Basics in One Shot - Strivers A2Z DSA Cour...</td>\n",
       "      <td>Avail Exclusive discounts on Coding Ninjas Cou...</td>\n",
       "      <td>2022-12-19</td>\n",
       "      <td>1080202</td>\n",
       "      <td>21954</td>\n",
       "      <td>1097</td>\n",
       "    </tr>\n",
       "    <tr>\n",
       "      <th>162</th>\n",
       "      <td>take U forward</td>\n",
       "      <td>Find Second Largest Element in Array | Remove ...</td>\n",
       "      <td>Notes/C++/Java/Python codes in Step 3.1 of htt...</td>\n",
       "      <td>2023-03-01</td>\n",
       "      <td>952194</td>\n",
       "      <td>14876</td>\n",
       "      <td>755</td>\n",
       "    </tr>\n",
       "    <tr>\n",
       "      <th>226</th>\n",
       "      <td>take U forward</td>\n",
       "      <td>G-1. Introduction to Graph | Types | Different...</td>\n",
       "      <td>Notes Link: https://takeuforward.org/graph/int...</td>\n",
       "      <td>2022-08-04</td>\n",
       "      <td>914653</td>\n",
       "      <td>13206</td>\n",
       "      <td>493</td>\n",
       "    </tr>\n",
       "    <tr>\n",
       "      <th>227</th>\n",
       "      <td>take U forward</td>\n",
       "      <td>Complete C++ STL in 1 Video | Time Complexity ...</td>\n",
       "      <td>Complete Notes: https://takeuforward.org/c/c-s...</td>\n",
       "      <td>2022-06-04</td>\n",
       "      <td>892374</td>\n",
       "      <td>18344</td>\n",
       "      <td>1647</td>\n",
       "    </tr>\n",
       "    <tr>\n",
       "      <th>168</th>\n",
       "      <td>take U forward</td>\n",
       "      <td>Solve any Pattern Question - Trick Explained |...</td>\n",
       "      <td>Full Course: https://takeuforward.org/strivers...</td>\n",
       "      <td>2023-01-02</td>\n",
       "      <td>890621</td>\n",
       "      <td>16239</td>\n",
       "      <td>1110</td>\n",
       "    </tr>\n",
       "    <tr>\n",
       "      <th>295</th>\n",
       "      <td>take U forward</td>\n",
       "      <td>DP 1. Introduction to Dynamic Programming | Me...</td>\n",
       "      <td>Lecture Notes: https://takeuforward.org/data-s...</td>\n",
       "      <td>2022-01-08</td>\n",
       "      <td>851696</td>\n",
       "      <td>26747</td>\n",
       "      <td>3130</td>\n",
       "    </tr>\n",
       "    <tr>\n",
       "      <th>161</th>\n",
       "      <td>take U forward</td>\n",
       "      <td>Rotate Array by K places | Union, Intersection...</td>\n",
       "      <td>Notes/C++/Java/Python codes in Step 3.1 of htt...</td>\n",
       "      <td>2023-03-05</td>\n",
       "      <td>608470</td>\n",
       "      <td>11413</td>\n",
       "      <td>773</td>\n",
       "    </tr>\n",
       "    <tr>\n",
       "      <th>302</th>\n",
       "      <td>take U forward</td>\n",
       "      <td>Re 2. Problems on Recursion | Strivers A2Z DSA...</td>\n",
       "      <td>Check our Website: https://www.takeuforward.or...</td>\n",
       "      <td>2021-12-25</td>\n",
       "      <td>577867</td>\n",
       "      <td>14617</td>\n",
       "      <td>1087</td>\n",
       "    </tr>\n",
       "  </tbody>\n",
       "</table>\n",
       "</div>"
      ],
      "text/plain": [
       "      channel_title                                              Title  \\\n",
       "303  take U forward  Re 1. Introduction to Recursion | Recursion Tr...   \n",
       "296  take U forward  Striver's Dynamic Programming Series | The ULT...   \n",
       "170  take U forward  C++ Basics in One Shot - Strivers A2Z DSA Cour...   \n",
       "162  take U forward  Find Second Largest Element in Array | Remove ...   \n",
       "226  take U forward  G-1. Introduction to Graph | Types | Different...   \n",
       "227  take U forward  Complete C++ STL in 1 Video | Time Complexity ...   \n",
       "168  take U forward  Solve any Pattern Question - Trick Explained |...   \n",
       "295  take U forward  DP 1. Introduction to Dynamic Programming | Me...   \n",
       "161  take U forward  Rotate Array by K places | Union, Intersection...   \n",
       "302  take U forward  Re 2. Problems on Recursion | Strivers A2Z DSA...   \n",
       "\n",
       "                                           Description Published_date  \\\n",
       "303  Check our Website: https://www.takeuforward.or...     2021-12-25   \n",
       "296  Check our Website: https://www.takeuforward.or...     2022-01-07   \n",
       "170  Avail Exclusive discounts on Coding Ninjas Cou...     2022-12-19   \n",
       "162  Notes/C++/Java/Python codes in Step 3.1 of htt...     2023-03-01   \n",
       "226  Notes Link: https://takeuforward.org/graph/int...     2022-08-04   \n",
       "227  Complete Notes: https://takeuforward.org/c/c-s...     2022-06-04   \n",
       "168  Full Course: https://takeuforward.org/strivers...     2023-01-02   \n",
       "295  Lecture Notes: https://takeuforward.org/data-s...     2022-01-08   \n",
       "161  Notes/C++/Java/Python codes in Step 3.1 of htt...     2023-03-05   \n",
       "302  Check our Website: https://www.takeuforward.or...     2021-12-25   \n",
       "\n",
       "       Views  Likes  Comments  \n",
       "303  1289563  22892       480  \n",
       "296  1086725   6603       156  \n",
       "170  1080202  21954      1097  \n",
       "162   952194  14876       755  \n",
       "226   914653  13206       493  \n",
       "227   892374  18344      1647  \n",
       "168   890621  16239      1110  \n",
       "295   851696  26747      3130  \n",
       "161   608470  11413       773  \n",
       "302   577867  14617      1087  "
      ]
     },
     "execution_count": 82,
     "metadata": {},
     "output_type": "execute_result"
    }
   ],
   "source": [
    "# Identifying the top 10 videos\n",
    "top_10_videos = video_data.sort_values(by='Views',ascending=False).head(10)\n",
    "top_10_videos"
   ]
  },
  {
   "cell_type": "code",
   "execution_count": 83,
   "metadata": {},
   "outputs": [
    {
     "data": {
      "image/png": "[encoded data removed]",
      "text/plain": [
       "<Figure size 640x480 with 1 Axes>"
      ]
     },
     "metadata": {},
     "output_type": "display_data"
    }
   ],
   "source": [
    "ax1 = sns.barplot(x = 'Views', y = 'Title', data = top_10_videos)"
   ]
  },
  {
   "cell_type": "code",
   "execution_count": 84,
   "metadata": {},
   "outputs": [],
   "source": [
    "# Mothly how many videos are getiing posted\n",
    "video_data['Month'] = pd.to_datetime(video_data['Published_date']).dt.strftime('%b')"
   ]
  },
  {
   "cell_type": "code",
   "execution_count": 85,
   "metadata": {},
   "outputs": [
    {
     "data": {
      "text/html": [
       "<div>\n",
       "<style scoped>\n",
       "    .dataframe tbody tr th:only-of-type {\n",
       "        vertical-align: middle;\n",
       "    }\n",
       "\n",
       "    .dataframe tbody tr th {\n",
       "        vertical-align: top;\n",
       "    }\n",
       "\n",
       "    .dataframe thead th {\n",
       "        text-align: right;\n",
       "    }\n",
       "</style>\n",
       "<table border=\"1\" class=\"dataframe\">\n",
       "  <thead>\n",
       "    <tr style=\"text-align: right;\">\n",
       "      <th></th>\n",
       "      <th>channel_title</th>\n",
       "      <th>Title</th>\n",
       "      <th>Description</th>\n",
       "      <th>Published_date</th>\n",
       "      <th>Views</th>\n",
       "      <th>Likes</th>\n",
       "      <th>Comments</th>\n",
       "      <th>Month</th>\n",
       "    </tr>\n",
       "  </thead>\n",
       "  <tbody>\n",
       "    <tr>\n",
       "      <th>0</th>\n",
       "      <td>take U forward</td>\n",
       "      <td>L18. Implement LRU Cache</td>\n",
       "      <td>Find problem link, notes under Step 9: https:/...</td>\n",
       "      <td>2024-07-16</td>\n",
       "      <td>4221</td>\n",
       "      <td>117</td>\n",
       "      <td>31</td>\n",
       "      <td>Jul</td>\n",
       "    </tr>\n",
       "    <tr>\n",
       "      <th>1</th>\n",
       "      <td>take U forward</td>\n",
       "      <td>L17. The Celebrity Problem | Stack and Queue P...</td>\n",
       "      <td>Find problem link, notes under Step 9: https:/...</td>\n",
       "      <td>2024-07-16</td>\n",
       "      <td>1514</td>\n",
       "      <td>66</td>\n",
       "      <td>12</td>\n",
       "      <td>Jul</td>\n",
       "    </tr>\n",
       "    <tr>\n",
       "      <th>2</th>\n",
       "      <td>take U forward</td>\n",
       "      <td>L16. Sliding Window Maximum | Stack and Queue ...</td>\n",
       "      <td>Find problem link, notes under Step 9: https:/...</td>\n",
       "      <td>2024-07-16</td>\n",
       "      <td>987</td>\n",
       "      <td>43</td>\n",
       "      <td>3</td>\n",
       "      <td>Jul</td>\n",
       "    </tr>\n",
       "    <tr>\n",
       "      <th>3</th>\n",
       "      <td>take U forward</td>\n",
       "      <td>L15. Stock Span Problem | Stack and Queue Play...</td>\n",
       "      <td>Find problem link, notes under Step 9: https:/...</td>\n",
       "      <td>2024-07-16</td>\n",
       "      <td>1063</td>\n",
       "      <td>42</td>\n",
       "      <td>6</td>\n",
       "      <td>Jul</td>\n",
       "    </tr>\n",
       "    <tr>\n",
       "      <th>4</th>\n",
       "      <td>take U forward</td>\n",
       "      <td>L14. Remove K Digits | Stack and Queue Playlist</td>\n",
       "      <td>Find problem link, notes under Step 9: https:/...</td>\n",
       "      <td>2024-07-16</td>\n",
       "      <td>990</td>\n",
       "      <td>40</td>\n",
       "      <td>3</td>\n",
       "      <td>Jul</td>\n",
       "    </tr>\n",
       "    <tr>\n",
       "      <th>...</th>\n",
       "      <td>...</td>\n",
       "      <td>...</td>\n",
       "      <td>...</td>\n",
       "      <td>...</td>\n",
       "      <td>...</td>\n",
       "      <td>...</td>\n",
       "      <td>...</td>\n",
       "      <td>...</td>\n",
       "    </tr>\n",
       "    <tr>\n",
       "      <th>529</th>\n",
       "      <td>take U forward</td>\n",
       "      <td>How to get an internship at Amazon | Internshi...</td>\n",
       "      <td>Check our Website: https://www.takeuforward.or...</td>\n",
       "      <td>2020-04-09</td>\n",
       "      <td>132039</td>\n",
       "      <td>7557</td>\n",
       "      <td>261</td>\n",
       "      <td>Apr</td>\n",
       "    </tr>\n",
       "    <tr>\n",
       "      <th>530</th>\n",
       "      <td>take U forward</td>\n",
       "      <td>How to approach people at Linkedin | How to bu...</td>\n",
       "      <td>Check our Website: https://www.takeuforward.or...</td>\n",
       "      <td>2020-04-04</td>\n",
       "      <td>32377</td>\n",
       "      <td>2707</td>\n",
       "      <td>74</td>\n",
       "      <td>Apr</td>\n",
       "    </tr>\n",
       "    <tr>\n",
       "      <th>531</th>\n",
       "      <td>take U forward</td>\n",
       "      <td>Experience with Scaler Academy | More insights...</td>\n",
       "      <td>Check our Website: https://www.takeuforward.or...</td>\n",
       "      <td>2020-04-01</td>\n",
       "      <td>180717</td>\n",
       "      <td>0</td>\n",
       "      <td>623</td>\n",
       "      <td>Apr</td>\n",
       "    </tr>\n",
       "    <tr>\n",
       "      <th>532</th>\n",
       "      <td>take U forward</td>\n",
       "      <td>Longest Increasing Subsequence NlogN approach</td>\n",
       "      <td>Check our Website: https://www.takeuforward.or...</td>\n",
       "      <td>2020-03-29</td>\n",
       "      <td>69521</td>\n",
       "      <td>1872</td>\n",
       "      <td>141</td>\n",
       "      <td>Mar</td>\n",
       "    </tr>\n",
       "    <tr>\n",
       "      <th>533</th>\n",
       "      <td>take U forward</td>\n",
       "      <td>Equal Average Partition Dynamic Programming</td>\n",
       "      <td>Check our Website: https://www.takeuforward.or...</td>\n",
       "      <td>2020-03-23</td>\n",
       "      <td>24067</td>\n",
       "      <td>710</td>\n",
       "      <td>62</td>\n",
       "      <td>Mar</td>\n",
       "    </tr>\n",
       "  </tbody>\n",
       "</table>\n",
       "<p>534 rows × 8 columns</p>\n",
       "</div>"
      ],
      "text/plain": [
       "      channel_title                                              Title  \\\n",
       "0    take U forward                           L18. Implement LRU Cache   \n",
       "1    take U forward  L17. The Celebrity Problem | Stack and Queue P...   \n",
       "2    take U forward  L16. Sliding Window Maximum | Stack and Queue ...   \n",
       "3    take U forward  L15. Stock Span Problem | Stack and Queue Play...   \n",
       "4    take U forward    L14. Remove K Digits | Stack and Queue Playlist   \n",
       "..              ...                                                ...   \n",
       "529  take U forward  How to get an internship at Amazon | Internshi...   \n",
       "530  take U forward  How to approach people at Linkedin | How to bu...   \n",
       "531  take U forward  Experience with Scaler Academy | More insights...   \n",
       "532  take U forward      Longest Increasing Subsequence NlogN approach   \n",
       "533  take U forward        Equal Average Partition Dynamic Programming   \n",
       "\n",
       "                                           Description Published_date   Views  \\\n",
       "0    Find problem link, notes under Step 9: https:/...     2024-07-16    4221   \n",
       "1    Find problem link, notes under Step 9: https:/...     2024-07-16    1514   \n",
       "2    Find problem link, notes under Step 9: https:/...     2024-07-16     987   \n",
       "3    Find problem link, notes under Step 9: https:/...     2024-07-16    1063   \n",
       "4    Find problem link, notes under Step 9: https:/...     2024-07-16     990   \n",
       "..                                                 ...            ...     ...   \n",
       "529  Check our Website: https://www.takeuforward.or...     2020-04-09  132039   \n",
       "530  Check our Website: https://www.takeuforward.or...     2020-04-04   32377   \n",
       "531  Check our Website: https://www.takeuforward.or...     2020-04-01  180717   \n",
       "532  Check our Website: https://www.takeuforward.or...     2020-03-29   69521   \n",
       "533  Check our Website: https://www.takeuforward.or...     2020-03-23   24067   \n",
       "\n",
       "     Likes  Comments Month  \n",
       "0      117        31   Jul  \n",
       "1       66        12   Jul  \n",
       "2       43         3   Jul  \n",
       "3       42         6   Jul  \n",
       "4       40         3   Jul  \n",
       "..     ...       ...   ...  \n",
       "529   7557       261   Apr  \n",
       "530   2707        74   Apr  \n",
       "531      0       623   Apr  \n",
       "532   1872       141   Mar  \n",
       "533    710        62   Mar  \n",
       "\n",
       "[534 rows x 8 columns]"
      ]
     },
     "execution_count": 85,
     "metadata": {},
     "output_type": "execute_result"
    }
   ],
   "source": [
    "video_data"
   ]
  },
  {
   "cell_type": "code",
   "execution_count": 86,
   "metadata": {},
   "outputs": [],
   "source": [
    "videos_per_month = video_data.groupby('Month', as_index=False).size()"
   ]
  },
  {
   "cell_type": "code",
   "execution_count": 87,
   "metadata": {},
   "outputs": [
    {
     "data": {
      "text/html": [
       "<div>\n",
       "<style scoped>\n",
       "    .dataframe tbody tr th:only-of-type {\n",
       "        vertical-align: middle;\n",
       "    }\n",
       "\n",
       "    .dataframe tbody tr th {\n",
       "        vertical-align: top;\n",
       "    }\n",
       "\n",
       "    .dataframe thead th {\n",
       "        text-align: right;\n",
       "    }\n",
       "</style>\n",
       "<table border=\"1\" class=\"dataframe\">\n",
       "  <thead>\n",
       "    <tr style=\"text-align: right;\">\n",
       "      <th></th>\n",
       "      <th>Month</th>\n",
       "      <th>size</th>\n",
       "    </tr>\n",
       "  </thead>\n",
       "  <tbody>\n",
       "    <tr>\n",
       "      <th>0</th>\n",
       "      <td>Apr</td>\n",
       "      <td>67</td>\n",
       "    </tr>\n",
       "    <tr>\n",
       "      <th>1</th>\n",
       "      <td>Aug</td>\n",
       "      <td>74</td>\n",
       "    </tr>\n",
       "    <tr>\n",
       "      <th>2</th>\n",
       "      <td>Dec</td>\n",
       "      <td>17</td>\n",
       "    </tr>\n",
       "    <tr>\n",
       "      <th>3</th>\n",
       "      <td>Feb</td>\n",
       "      <td>30</td>\n",
       "    </tr>\n",
       "    <tr>\n",
       "      <th>4</th>\n",
       "      <td>Jan</td>\n",
       "      <td>30</td>\n",
       "    </tr>\n",
       "    <tr>\n",
       "      <th>5</th>\n",
       "      <td>Jul</td>\n",
       "      <td>33</td>\n",
       "    </tr>\n",
       "    <tr>\n",
       "      <th>6</th>\n",
       "      <td>Jun</td>\n",
       "      <td>40</td>\n",
       "    </tr>\n",
       "    <tr>\n",
       "      <th>7</th>\n",
       "      <td>Mar</td>\n",
       "      <td>70</td>\n",
       "    </tr>\n",
       "    <tr>\n",
       "      <th>8</th>\n",
       "      <td>May</td>\n",
       "      <td>54</td>\n",
       "    </tr>\n",
       "    <tr>\n",
       "      <th>9</th>\n",
       "      <td>Nov</td>\n",
       "      <td>38</td>\n",
       "    </tr>\n",
       "    <tr>\n",
       "      <th>10</th>\n",
       "      <td>Oct</td>\n",
       "      <td>42</td>\n",
       "    </tr>\n",
       "    <tr>\n",
       "      <th>11</th>\n",
       "      <td>Sep</td>\n",
       "      <td>39</td>\n",
       "    </tr>\n",
       "  </tbody>\n",
       "</table>\n",
       "</div>"
      ],
      "text/plain": [
       "   Month  size\n",
       "0    Apr    67\n",
       "1    Aug    74\n",
       "2    Dec    17\n",
       "3    Feb    30\n",
       "4    Jan    30\n",
       "5    Jul    33\n",
       "6    Jun    40\n",
       "7    Mar    70\n",
       "8    May    54\n",
       "9    Nov    38\n",
       "10   Oct    42\n",
       "11   Sep    39"
      ]
     },
     "execution_count": 87,
     "metadata": {},
     "output_type": "execute_result"
    }
   ],
   "source": [
    "videos_per_month"
   ]
  },
  {
   "cell_type": "code",
   "execution_count": 88,
   "metadata": {},
   "outputs": [],
   "source": [
    "sort_order = ['Jan', 'Feb', 'Mar', 'Apr', 'May', 'June', 'July', 'Aug', 'Sept', 'Oct', 'Nov', 'Dec']"
   ]
  },
  {
   "cell_type": "code",
   "execution_count": 89,
   "metadata": {},
   "outputs": [],
   "source": [
    "videos_per_month.index = pd.CategoricalIndex(videos_per_month['Month'], categories=sort_order, ordered=True)"
   ]
  },
  {
   "cell_type": "code",
   "execution_count": 90,
   "metadata": {},
   "outputs": [],
   "source": [
    "videos_per_month = videos_per_month.sort_index()"
   ]
  },
  {
   "cell_type": "code",
   "execution_count": 91,
   "metadata": {},
   "outputs": [
    {
     "data": {
      "image/png": "[encoded data removed]",
      "text/plain": [
       "<Figure size 640x480 with 1 Axes>"
      ]
     },
     "metadata": {},
     "output_type": "display_data"
    }
   ],
   "source": [
    "ax2 = sns.barplot(x = 'Month', y = 'size', data = videos_per_month)"
   ]
  },
  {
   "cell_type": "code",
   "execution_count": 92,
   "metadata": {},
   "outputs": [],
   "source": [
    "video_data.to_csv('takeUforward_videos.csv')"
   ]
  },
  {
   "cell_type": "code",
   "execution_count": 93,
   "metadata": {},
   "outputs": [],
   "source": [
    "video_data = pd.read_csv('takeUforward_videos.csv')"
   ]
  },
  {
   "cell_type": "code",
   "execution_count": 94,
   "metadata": {},
   "outputs": [
    {
     "data": {
      "text/plain": [
       "<Axes: xlabel='channel_title', ylabel='Views'>"
      ]
     },
     "execution_count": 94,
     "metadata": {},
     "output_type": "execute_result"
    },
    {
     "data": {
      "image/png": "[encoded data removed]",
      "text/plain": [
       "<Figure size 640x480 with 1 Axes>"
      ]
     },
     "metadata": {},
     "output_type": "display_data"
    }
   ],
   "source": [
    "# Visualising the view distribution of a channel\n",
    "sns.violinplot(x ='channel_title', y = 'Views',data=video_data)"
   ]
  },
  {
   "cell_type": "code",
   "execution_count": 109,
   "metadata": {},
   "outputs": [
    {
     "data": {
      "text/plain": [
       "<Axes: xlabel='Likes', ylabel='Views'>"
      ]
     },
     "execution_count": 109,
     "metadata": {},
     "output_type": "execute_result"
    },
    {
     "data": {
      "image/png": "[encoded data removed]",
      "text/plain": [
       "<Figure size 640x480 with 2 Axes>"
      ]
     },
     "metadata": {},
     "output_type": "display_data"
    }
   ],
   "source": [
    "fig, ax =plt.subplots(1,2)\n",
    "sns.scatterplot(data = video_data, x = \"Comments\", y = \"Views\", ax=ax[0])\n",
    "sns.scatterplot(data = video_data, x = \"Likes\", y = \"Views\", ax=ax[1])\n"
   ]
  },
  {
   "cell_type": "code",
   "execution_count": 95,
   "metadata": {},
   "outputs": [],
   "source": [
    "# Get channel comments\n",
    "def get_comments_in_videos(youtube, video_ids):\n",
    "    \"\"\"\n",
    "    Get top level comments as text from all videos with given IDs (only the first 10 comments due to quote limit of Youtube API)\n",
    "    Params:\n",
    "    \n",
    "    youtube: the build object from googleapiclient.discovery\n",
    "    video_ids: list of video IDs\n",
    "    \n",
    "    Returns:\n",
    "    Dataframe with video IDs and associated top level comment in text.\n",
    "    \n",
    "    \"\"\"\n",
    "    all_comments = []\n",
    "    \n",
    "    for video_id in video_ids:\n",
    "        try:   \n",
    "            request = youtube.commentThreads().list(\n",
    "                part=\"snippet,replies\",\n",
    "                videoId=video_id\n",
    "            )\n",
    "            response = request.execute()\n",
    "        \n",
    "            comments_in_video = [comment['snippet']['topLevelComment']['snippet']['textOriginal'] for comment in response['items'][0:10]]\n",
    "            comments_in_video_info = {'video_id': video_id, 'comments': comments_in_video}\n",
    "\n",
    "            all_comments.append(comments_in_video_info)\n",
    "            \n",
    "        except: \n",
    "            # When error occurs - most likely because comments are disabled on a video\n",
    "            print('Could not get comments for video ' + video_id)\n",
    "        \n",
    "    return pd.DataFrame(all_comments)     "
   ]
  },
  {
   "cell_type": "code",
   "execution_count": 96,
   "metadata": {},
   "outputs": [
    {
     "name": "stdout",
     "output_type": "stream",
     "text": [
      "Could not get comments for video AZOmHuHadxQ\n",
      "Could not get comments for video yJ-G3t0rSUU\n"
     ]
    }
   ],
   "source": [
    "comments_data = get_comments_in_videos(youtube, video_id)"
   ]
  },
  {
   "cell_type": "code",
   "execution_count": 97,
   "metadata": {},
   "outputs": [
    {
     "data": {
      "text/html": [
       "<div>\n",
       "<style scoped>\n",
       "    .dataframe tbody tr th:only-of-type {\n",
       "        vertical-align: middle;\n",
       "    }\n",
       "\n",
       "    .dataframe tbody tr th {\n",
       "        vertical-align: top;\n",
       "    }\n",
       "\n",
       "    .dataframe thead th {\n",
       "        text-align: right;\n",
       "    }\n",
       "</style>\n",
       "<table border=\"1\" class=\"dataframe\">\n",
       "  <thead>\n",
       "    <tr style=\"text-align: right;\">\n",
       "      <th></th>\n",
       "      <th>video_id</th>\n",
       "      <th>comments</th>\n",
       "    </tr>\n",
       "  </thead>\n",
       "  <tbody>\n",
       "    <tr>\n",
       "      <th>0</th>\n",
       "      <td>z9bJUPxzFOw</td>\n",
       "      <td>[Bhaiya could you tell beforehand if you going...</td>\n",
       "    </tr>\n",
       "    <tr>\n",
       "      <th>1</th>\n",
       "      <td>cEadsbTeze4</td>\n",
       "      <td>[easy problem only thing to evaluate that ther...</td>\n",
       "    </tr>\n",
       "    <tr>\n",
       "      <th>2</th>\n",
       "      <td>NwBvene4Imo</td>\n",
       "      <td>[Good post, slow down the releases and you’ll ...</td>\n",
       "    </tr>\n",
       "    <tr>\n",
       "      <th>3</th>\n",
       "      <td>eay-zoSRkVc</td>\n",
       "      <td>[What a timing. I was solving this problem fro...</td>\n",
       "    </tr>\n",
       "    <tr>\n",
       "      <th>4</th>\n",
       "      <td>jmbuRzYPGrg</td>\n",
       "      <td>[So many edge cases.........Uffffff, , Great s...</td>\n",
       "    </tr>\n",
       "    <tr>\n",
       "      <th>...</th>\n",
       "      <td>...</td>\n",
       "      <td>...</td>\n",
       "    </tr>\n",
       "    <tr>\n",
       "      <th>527</th>\n",
       "      <td>GAuI71n71Uc</td>\n",
       "      <td>[😮, whenever i feel like i can't do it, i watc...</td>\n",
       "    </tr>\n",
       "    <tr>\n",
       "      <th>528</th>\n",
       "      <td>Cq_G2kk15U0</td>\n",
       "      <td>[others : how to approach girls on insta \\nle ...</td>\n",
       "    </tr>\n",
       "    <tr>\n",
       "      <th>529</th>\n",
       "      <td>SWABtcS8SU8</td>\n",
       "      <td>[The video received 200+ Likes and 10 dislikes...</td>\n",
       "    </tr>\n",
       "    <tr>\n",
       "      <th>530</th>\n",
       "      <td>TocJOW6vx_I</td>\n",
       "      <td>[The program is to find the length and not the...</td>\n",
       "    </tr>\n",
       "    <tr>\n",
       "      <th>531</th>\n",
       "      <td>VwylCVAVdmo</td>\n",
       "      <td>[The time complexity of the recursive code wil...</td>\n",
       "    </tr>\n",
       "  </tbody>\n",
       "</table>\n",
       "<p>532 rows × 2 columns</p>\n",
       "</div>"
      ],
      "text/plain": [
       "        video_id                                           comments\n",
       "0    z9bJUPxzFOw  [Bhaiya could you tell beforehand if you going...\n",
       "1    cEadsbTeze4  [easy problem only thing to evaluate that ther...\n",
       "2    NwBvene4Imo  [Good post, slow down the releases and you’ll ...\n",
       "3    eay-zoSRkVc  [What a timing. I was solving this problem fro...\n",
       "4    jmbuRzYPGrg  [So many edge cases.........Uffffff, , Great s...\n",
       "..           ...                                                ...\n",
       "527  GAuI71n71Uc  [😮, whenever i feel like i can't do it, i watc...\n",
       "528  Cq_G2kk15U0  [others : how to approach girls on insta \\nle ...\n",
       "529  SWABtcS8SU8  [The video received 200+ Likes and 10 dislikes...\n",
       "530  TocJOW6vx_I  [The program is to find the length and not the...\n",
       "531  VwylCVAVdmo  [The time complexity of the recursive code wil...\n",
       "\n",
       "[532 rows x 2 columns]"
      ]
     },
     "execution_count": 97,
     "metadata": {},
     "output_type": "execute_result"
    }
   ],
   "source": [
    "comments_data"
   ]
  },
  {
   "cell_type": "code",
   "execution_count": 99,
   "metadata": {},
   "outputs": [],
   "source": [
    "comments_data.to_csv('comments_data.csv')"
   ]
  },
  {
   "cell_type": "code",
   "execution_count": null,
   "metadata": {},
   "outputs": [],
   "source": []
  }
 ],
 "metadata": {
  "kernelspec": {
   "display_name": "YT_env",
   "language": "python",
   "name": "python3"
  },
  "language_info": {
   "codemirror_mode": {
    "name": "ipython",
    "version": 3
   },
   "file_extension": ".py",
   "mimetype": "text/x-python",
   "name": "python",
   "nbconvert_exporter": "python",
   "pygments_lexer": "ipython3",
   "version": "3.9.19"
  }
 },
 "nbformat": 4,
 "nbformat_minor": 2
}
